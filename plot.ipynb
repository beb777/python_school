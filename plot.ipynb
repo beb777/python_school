import matplotlib.pyplot as plt
import numpy as np

x = np.array(['a','b','c'])
y = np.array([3, 5, 1])

plt.bar(x, y)
plt.show()